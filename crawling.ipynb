{
 "cells": [
  {
   "cell_type": "code",
   "execution_count": 31,
   "metadata": {},
   "outputs": [],
   "source": [
    "from selenium import webdriver\n",
    "from bs4 import BeautifulSoup as bs4\n",
    "from time import sleep"
   ]
  },
  {
   "cell_type": "code",
   "execution_count": 64,
   "metadata": {},
   "outputs": [],
   "source": [
    "base_url = 'http://infocarrosp.com.br'\n",
    "url_site = f'{base_url}/buscando-dados/BTA7252/'\n",
    "browser = webdriver.Chrome()\n",
    "browser.get(url_site)\n",
    "sleep(15)\n",
    "soup = bs4(browser.page_source, 'html.parser')\n",
    "browser.close()"
   ]
  },
  {
   "cell_type": "code",
   "execution_count": 70,
   "metadata": {
    "collapsed": true,
    "jupyter": {
     "outputs_hidden": true
    }
   },
   "outputs": [
    {
     "name": "stdout",
     "output_type": "stream",
     "text": [
      "[<td>SCANIA/T112 HW 4X2 - 1990 - 1990 - Branca</td>]\n",
      "[<td>\n",
      "                        \n",
      "                            SAO JOSE DOS CAMPOS / SP\n",
      "                        \n",
      "                        </td>]\n",
      "[<td>******************39231</td>]\n",
      "[<td>\n",
      "<a href=\"/basic-car-info/1389747/FIPE-bta7252-scania-t112-hw-4x2-1990-1990-branca-sao-jose-dos-campos-sp-39231?fipe=t\" target=\"_blank\">\n",
      "<span class=\"label label-primary\">Consultar</span>\n",
      "</a>\n",
      "</td>]\n",
      "[<td><a href=\"#price-panel\"><span class=\"label label-info\">Adquirir relatório completo</span></a></td>]\n",
      "[<td><a href=\"#price-panel\"><span class=\"label label-info\">Adquirir relatório completo</span></a></td>]\n",
      "[<td><a href=\"#price-panel\"><span class=\"label label-info\">Adquirir relatório completo</span></a></td>]\n",
      "[<td><a href=\"#price-panel\"><span class=\"label label-info\">Adquirir relatório completo</span></a></td>]\n",
      "[<td><a href=\"#price-panel\"><span class=\"label label-info\">Adquirir relatório completo</span></a></td>]\n",
      "[<td><a href=\"#price-panel\"><span class=\"label label-info\">Adquirir relatório completo</span></a></td>]\n",
      "[<td><a href=\"#price-panel\"><span class=\"label label-info\">Adquirir relatório completo</span></a></td>]\n",
      "[<td><a href=\"#price-panel\"><span class=\"label label-info\">Adquirir relatório completo</span></a></td>]\n",
      "[<td><a href=\"#price-panel\"><span class=\"label label-info\">Adquirir relatório completo</span></a></td>]\n",
      "[<td><a href=\"#price-panel\"><span class=\"label label-info\">Adquirir relatório completo</span></a></td>]\n",
      "[<td><a href=\"#price-panel\"><span class=\"label label-info\">Adquirir relatório completo</span></a></td>]\n",
      "[<td><a href=\"#price-panel\"><span class=\"label label-info\">Adquirir relatório completo</span></a></td>]\n",
      "[<td><a href=\"#price-panel\"><span class=\"label label-info\">Adquirir relatório completo</span></a></td>]\n",
      "[<td><a href=\"#price-panel\"><span class=\"label label-info\">Adquirir relatório completo</span></a></td>]\n",
      "[<td><a href=\"#price-panel\"><span class=\"label label-info\">Adquirir relatório completo</span></a></td>]\n",
      "[<td><a href=\"#price-panel\"><span class=\"label label-info\">Adquirir relatório completo</span></a></td>]\n"
     ]
    }
   ],
   "source": [
    "rows = soup.find_all('tr')\n",
    "\n",
    "for row in rows:\n",
    "    print(row.find_all('td'))"
   ]
  },
  {
   "cell_type": "code",
   "execution_count": 62,
   "metadata": {},
   "outputs": [],
   "source": [
    "rows = soup.find_all('tr')\n",
    "get_city = soup.find_all('td')[1].get_text().split('/')[0].strip()\n",
    "get_estate = soup.find_all('td')[1].get_text().split('/')[1].strip()\n",
    "for row in rows:\n",
    "    row_td = row.find_all('td')\n",
    "get_brand = row_td[0].get_text().split('/')[0].strip()\n",
    "get_model = row_td[0].get_text().split('/')[1].strip() + row_td[0].get_text().split('/')[2]\n",
    "get_fuel, get_fipe = row_td[1].get_text(), row_td[-1].get_text()"
   ]
  },
  {
   "cell_type": "code",
   "execution_count": 116,
   "metadata": {},
   "outputs": [],
   "source": [
    "rows = soup.find_all('tr')\n",
    "for row in rows:\n",
    "    row_td = row.find_all('td')"
   ]
  },
  {
   "cell_type": "code",
   "execution_count": null,
   "metadata": {},
   "outputs": [],
   "source": [
    "#list_plates = ['IMU7532','BTA7252','DPE5086','CNI1260',\n",
    "#               'NFJ3946','ANA5119','AKJ1397']\n"
   ]
  }
 ],
 "metadata": {
  "kernelspec": {
   "display_name": "Python 3",
   "language": "python",
   "name": "python3"
  },
  "language_info": {
   "codemirror_mode": {
    "name": "ipython",
    "version": 3
   },
   "file_extension": ".py",
   "mimetype": "text/x-python",
   "name": "python",
   "nbconvert_exporter": "python",
   "pygments_lexer": "ipython3",
   "version": "3.7.3"
  }
 },
 "nbformat": 4,
 "nbformat_minor": 4
}
