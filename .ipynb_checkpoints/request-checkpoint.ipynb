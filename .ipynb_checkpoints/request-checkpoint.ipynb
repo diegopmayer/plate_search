{
 "cells": [
  {
   "cell_type": "code",
   "execution_count": 13,
   "metadata": {},
   "outputs": [],
   "source": [
    "from bs4 import BeautifulSoup as bs\n",
    "from requests import get, post"
   ]
  },
  {
   "cell_type": "code",
   "execution_count": 88,
   "metadata": {},
   "outputs": [],
   "source": [
    "base_url = 'http://pyjobs.com.br/'\n",
    "jobs = f'{base_url}jobs/'\n",
    "jobs_pages = f'{jobs}?page='"
   ]
  },
  {
   "cell_type": "code",
   "execution_count": 89,
   "metadata": {},
   "outputs": [],
   "source": [
    "pyjobs = get(jobs)\n",
    "pyjobs_page = bs(pyjobs.text, 'html.parser')"
   ]
  },
  {
   "cell_type": "code",
   "execution_count": 119,
   "metadata": {},
   "outputs": [],
   "source": [
    "boxes = pyjobs_page.find_all('div', {'class': 'col-md-6 m-0'})"
   ]
  },
  {
   "cell_type": "code",
   "execution_count": 125,
   "metadata": {},
   "outputs": [
    {
     "name": "stdout",
     "output_type": "stream",
     "text": [
      "<h2 style=\"font-size: 18px;\">Engineering Intern - SW Engin…</h2>\n",
      "None\n",
      "<h2 style=\"font-size: 18px;\">Data Science/Analytics Nível …</h2>\n",
      "None\n",
      "<h2 style=\"font-size: 18px;\">DESENVOLVEDOR PYTHON JR</h2>\n",
      "None\n",
      "<h2 style=\"font-size: 18px;\">Integration Engineer (EDI)</h2>\n",
      "None\n",
      "<h2 style=\"font-size: 18px;\">Analista Desenvolvedor Python</h2>\n",
      "None\n",
      "<h2 style=\"font-size: 18px;\">DESENVOLVEDOR PYTHON</h2>\n",
      "None\n",
      "<h2 style=\"font-size: 18px;\">Desenvolvedor Pyhton Senior (…</h2>\n",
      "None\n",
      "<h2 style=\"font-size: 18px;\">Senior Python Back End Engine…</h2>\n",
      "None\n",
      "<h2 style=\"font-size: 18px;\">Desenvolvedor Back-end Remoto…</h2>\n",
      "None\n",
      "<h2 style=\"font-size: 18px;\">Desenvolvedor</h2>\n",
      "None\n"
     ]
    }
   ],
   "source": [
    "for box in boxes:\n",
    "    titulo = box.find('h2')\n",
    "    print(titulo)"
   ]
  },
  {
   "cell_type": "code",
   "execution_count": 123,
   "metadata": {},
   "outputs": [],
   "source": [
    "titulo"
   ]
  },
  {
   "cell_type": "code",
   "execution_count": null,
   "metadata": {},
   "outputs": [],
   "source": []
  }
 ],
 "metadata": {
  "kernelspec": {
   "display_name": "Python 3",
   "language": "python",
   "name": "python3"
  },
  "language_info": {
   "codemirror_mode": {
    "name": "ipython",
    "version": 3
   },
   "file_extension": ".py",
   "mimetype": "text/x-python",
   "name": "python",
   "nbconvert_exporter": "python",
   "pygments_lexer": "ipython3",
   "version": "3.7.3"
  }
 },
 "nbformat": 4,
 "nbformat_minor": 4
}
