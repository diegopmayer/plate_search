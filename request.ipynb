{
 "cells": [
  {
   "cell_type": "code",
   "execution_count": 238,
   "metadata": {},
   "outputs": [],
   "source": [
    "from requests import post, get, Session"
   ]
  },
  {
   "cell_type": "code",
   "execution_count": 239,
   "metadata": {},
   "outputs": [],
   "source": [
    "session = Session()"
   ]
  },
  {
   "cell_type": "code",
   "execution_count": 240,
   "metadata": {},
   "outputs": [],
   "source": [
    "jar = requests.cookies.RequestsCookieJar()"
   ]
  },
  {
   "cell_type": "code",
   "execution_count": 227,
   "metadata": {},
   "outputs": [],
   "source": [
    "url = "
   ]
  },
  {
   "cell_type": "code",
   "execution_count": 225,
   "metadata": {},
   "outputs": [],
   "source": [
    "headers = {'Mozilla/5.0 (Windows NT 10.0; Win64; x64) '\n",
    "            'AppleWebKit/537.36 (KHTML, like Gecko) Chrome/'\n",
    "            '81.0.4044.122 Safari/537.36'}"
   ]
  },
  {
   "cell_type": "code",
   "execution_count": 236,
   "metadata": {},
   "outputs": [
    {
     "name": "stdout",
     "output_type": "stream",
     "text": [
      "\n",
      "<!DOCTYPE html>\n",
      "<html lang=\"en\">\n",
      "<head>\n",
      "  <meta http-equiv=\"content-type\" content=\"text/html; charset=utf-8\">\n",
      "  <meta name=\"robots\" content=\"NONE,NOARCHIVE\">\n",
      "  <title>403 Forbidden</title>\n",
      "  <style type=\"text/css\">\n",
      "    html * { padding:0; margin:0; }\n",
      "    body * { padding:10px 20px; }\n",
      "    body * * { padding:0; }\n",
      "    body { font:small sans-serif; background:#eee; }\n",
      "    body>div { border-bottom:1px solid #ddd; }\n",
      "    h1 { font-weight:normal; margin-bottom:.4em; }\n",
      "    h1 span { font-size:60%; color:#666; font-weight:normal; }\n",
      "    #info { background:#f6f6f6; }\n",
      "    #info ul { margin: 0.5em 4em; }\n",
      "    #info p, #summary p { padding-top:10px; }\n",
      "    #summary { background: #ffc; }\n",
      "    #explanation { background:#eee; border-bottom: 0px none; }\n",
      "  </style>\n",
      "</head>\n",
      "<body>\n",
      "<div id=\"summary\">\n",
      "  <h1>Proibido <span>(403)</span></h1>\n",
      "  <p>Verificação CSRF falhou. Pedido cancelado.</p>\n",
      "\n",
      "\n",
      "  <p>Você está vendo esta mensagem, porque este site requer um cookie CSRF no envio de formulários. Este cookie é necessário por razões de segurança, para garantir que o seu browser não está sendo invadido por terceiros.</p>\n",
      "  <p>Se você tiver configurado seu browser para desativar os cookies, por favor ative-os novamente, pelo menos para este site, ou para pedidos de &#39;mesma origem&#39;.</p>\n",
      "\n",
      "</div>\n",
      "\n",
      "<div id=\"explanation\">\n",
      "  <p><small>Mais informações estão disponíveis com DEBUG = True.</small></p>\n",
      "</div>\n",
      "\n",
      "</body>\n",
      "</html>\n",
      "\n"
     ]
    }
   ],
   "source": [
    "url = 'http://infocarrosp.com.br/busca-placa/IMU7532'\n",
    "headers = {'User-Agent': 'Mozilla/5.0 (Macintosh; Intel Mac OS X 10_11_5) AppleWebKit/537.36 (KHTML, like Gecko) Chrome/50.0.2661.102 Safari/537.36'}\n",
    "result = post(url, headers=headers)\n",
    "print(result.content.decode())"
   ]
  },
  {
   "cell_type": "code",
   "execution_count": 222,
   "metadata": {},
   "outputs": [
    {
     "data": {
      "text/plain": [
       "'FORBIDDEN'"
      ]
     },
     "execution_count": 222,
     "metadata": {},
     "output_type": "execute_result"
    }
   ],
   "source": [
    "res.reason"
   ]
  },
  {
   "cell_type": "code",
   "execution_count": null,
   "metadata": {},
   "outputs": [],
   "source": []
  }
 ],
 "metadata": {
  "kernelspec": {
   "display_name": "Python 3",
   "language": "python",
   "name": "python3"
  },
  "language_info": {
   "codemirror_mode": {
    "name": "ipython",
    "version": 3
   },
   "file_extension": ".py",
   "mimetype": "text/x-python",
   "name": "python",
   "nbconvert_exporter": "python",
   "pygments_lexer": "ipython3",
   "version": "3.7.3"
  }
 },
 "nbformat": 4,
 "nbformat_minor": 4
}
