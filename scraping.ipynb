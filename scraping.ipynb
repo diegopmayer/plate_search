{
 "cells": [
  {
   "cell_type": "markdown",
   "metadata": {},
   "source": [
    "# Objective"
   ]
  },
  {
   "cell_type": "markdown",
   "metadata": {},
   "source": [
    "Discover the data about truck vehicles with following fields:\n",
    "* Placa\n",
    "* Marca\n",
    "* Modelo\n",
    "* Ano Fab/Ano Modelo\n",
    "* Chassi\n",
    "* Números de eixos\n",
    "* Tração"
   ]
  },
  {
   "cell_type": "markdown",
   "metadata": {},
   "source": []
  },
  {
   "cell_type": "code",
   "execution_count": 17,
   "metadata": {},
   "outputs": [],
   "source": [
    "import pandas as pd\n",
    "import numpy as np\n",
    "\n",
    "from urllib.request import urlopen, Request\n",
    "from bs4 import BeautifulSoup"
   ]
  },
  {
   "cell_type": "code",
   "execution_count": 237,
   "metadata": {},
   "outputs": [],
   "source": [
    "def crawling_data(plate):\n",
    "    url = 'http://infocarrosp.com.br/basic-car-info/1387508/'\n",
    "    return url"
   ]
  },
  {
   "cell_type": "code",
   "execution_count": 238,
   "metadata": {},
   "outputs": [],
   "source": [
    "def scraping_data(url):\n",
    "    \n",
    "    headers = {'User-Agent': 'Mozilla/5.0 (Windows NT 6.1) AppleWebKit/537.36 (KHTML, like Gecko) Chrome/41.0.2228.0 Safari/537.3'}\n",
    "    reg_url = url\n",
    "    req = Request(url=reg_url, headers=headers) \n",
    "    html = urlopen(req).read()\n",
    "    soup = BeautifulSoup(html, 'lxml')\n",
    "    \n",
    "    return soup"
   ]
  },
  {
   "cell_type": "code",
   "execution_count": 265,
   "metadata": {},
   "outputs": [],
   "source": [
    "def transform_data(soup):\n",
    "    \n",
    "    #----slicing and split data inputing in variables\n",
    "    get_city = soup.find_all('td')[1].get_text().split()[0]\n",
    "    get_estate = soup.find_all('td')[1].get_text().split()[2]\n",
    "    for row in rows:\n",
    "        row_td = row.find_all('td')\n",
    "    get_brand = row_td[0].get_text().split('/')[0].strip()\n",
    "    get_model = row_td[0].get_text().split('/')[1].strip() + row_td[0].get_text().split('/')[2]\n",
    "    get_fuel, get_fipe = row_td[1].get_text(), row_td[-1].get_text()\n",
    "    \n",
    "    return get_brand, get_model, get_fuel, get_city, get_estate, get_fipe"
   ]
  },
  {
   "cell_type": "code",
   "execution_count": 266,
   "metadata": {},
   "outputs": [],
   "source": [
    "def export_data(df_list):\n",
    "    \n",
    "    from datetime import datetime\n",
    "    \n",
    "    time_stampe = (str(datetime.now()).split('.')[0].replace('-',\n",
    "                '_').replace(' ', '_').replace(':', '')[:-2])\n",
    "    \n",
    "    #----create dictionary to output return\n",
    "    dict_df = {\n",
    "    'brand':df_list[0], 'model':df_list[1], 'fuel':df_list[2],\n",
    "    'city':df_list[3], 'estate':df_list[4], 'fipe':df_list[5]\n",
    "    }\n",
    "    \n",
    "    df = pd.DataFrame(dict_df)\n",
    "    df.to_csv(f'data_col_{time_stampe}', index=False)\n",
    "    \n",
    "    return print(f'Sucess Exported_{time_stampe}')"
   ]
  },
  {
   "cell_type": "code",
   "execution_count": 282,
   "metadata": {},
   "outputs": [],
   "source": [
    "def main():\n",
    "    list_plates = ['IMU7532']\n",
    "    brand, model, fuel, city, estate, fipe = [], [], [], [], [], []\n",
    "    for plate in list_plates:\n",
    "        url = crawling_data(plate)\n",
    "        soup = scraping_data(url)\n",
    "        data = transform_data(soup)\n",
    "\n",
    "        #----append list\n",
    "        brand.append(data[0]), model.append(data[1]), fuel.append(data[2])\n",
    "        city.append(data[3]), estate.append(data[4]), fipe.append(data[5])\n",
    "        \n",
    "    return brand, model, fuel, city, estate, fipe"
   ]
  },
  {
   "cell_type": "code",
   "execution_count": 284,
   "metadata": {},
   "outputs": [
    {
     "name": "stdout",
     "output_type": "stream",
     "text": [
      "Sucess Exported_2020_04_26_2217\n"
     ]
    }
   ],
   "source": [
    "export_data(main())"
   ]
  }
 ],
 "metadata": {
  "kernelspec": {
   "display_name": "Python 3",
   "language": "python",
   "name": "python3"
  },
  "language_info": {
   "codemirror_mode": {
    "name": "ipython",
    "version": 3
   },
   "file_extension": ".py",
   "mimetype": "text/x-python",
   "name": "python",
   "nbconvert_exporter": "python",
   "pygments_lexer": "ipython3",
   "version": "3.7.3"
  }
 },
 "nbformat": 4,
 "nbformat_minor": 4
}
